{
 "cells": [
  {
   "cell_type": "code",
   "execution_count": 1,
   "id": "4479232b-82d1-4d9f-8957-1d92f969a106",
   "metadata": {},
   "outputs": [],
   "source": [
    "import json\n",
    "import pandas as pd\n",
    "import matplotlib.pyplot as plt"
   ]
  },
  {
   "cell_type": "code",
   "execution_count": 2,
   "id": "726ccb28-e32d-4063-826f-e72e3117a4fe",
   "metadata": {},
   "outputs": [
    {
     "data": {
      "text/html": [
       "<div>\n",
       "<style scoped>\n",
       "    .dataframe tbody tr th:only-of-type {\n",
       "        vertical-align: middle;\n",
       "    }\n",
       "\n",
       "    .dataframe tbody tr th {\n",
       "        vertical-align: top;\n",
       "    }\n",
       "\n",
       "    .dataframe thead th {\n",
       "        text-align: right;\n",
       "    }\n",
       "</style>\n",
       "<table border=\"1\" class=\"dataframe\">\n",
       "  <thead>\n",
       "    <tr style=\"text-align: right;\">\n",
       "      <th></th>\n",
       "      <th>Chills</th>\n",
       "      <th>runny nose</th>\n",
       "      <th>head ache</th>\n",
       "      <th>fever</th>\n",
       "      <th>Flu</th>\n",
       "    </tr>\n",
       "  </thead>\n",
       "  <tbody>\n",
       "    <tr>\n",
       "      <th>0</th>\n",
       "      <td>Y</td>\n",
       "      <td>N</td>\n",
       "      <td>Mild</td>\n",
       "      <td>Y</td>\n",
       "      <td>N</td>\n",
       "    </tr>\n",
       "    <tr>\n",
       "      <th>1</th>\n",
       "      <td>Y</td>\n",
       "      <td>Y</td>\n",
       "      <td>No</td>\n",
       "      <td>N</td>\n",
       "      <td>Y</td>\n",
       "    </tr>\n",
       "    <tr>\n",
       "      <th>2</th>\n",
       "      <td>Y</td>\n",
       "      <td>N</td>\n",
       "      <td>Strong</td>\n",
       "      <td>Y</td>\n",
       "      <td>Y</td>\n",
       "    </tr>\n",
       "    <tr>\n",
       "      <th>3</th>\n",
       "      <td>N</td>\n",
       "      <td>Y</td>\n",
       "      <td>Mild</td>\n",
       "      <td>Y</td>\n",
       "      <td>Y</td>\n",
       "    </tr>\n",
       "    <tr>\n",
       "      <th>4</th>\n",
       "      <td>N</td>\n",
       "      <td>N</td>\n",
       "      <td>No</td>\n",
       "      <td>N</td>\n",
       "      <td>N</td>\n",
       "    </tr>\n",
       "  </tbody>\n",
       "</table>\n",
       "</div>"
      ],
      "text/plain": [
       "  Chills runny nose head ache fever Flu\n",
       "0      Y          N      Mild     Y   N\n",
       "1      Y          Y        No     N   Y\n",
       "2      Y          N    Strong     Y   Y\n",
       "3      N          Y      Mild     Y   Y\n",
       "4      N          N        No     N   N"
      ]
     },
     "metadata": {},
     "output_type": "display_data"
    },
    {
     "data": {
      "text/html": [
       "<div>\n",
       "<style scoped>\n",
       "    .dataframe tbody tr th:only-of-type {\n",
       "        vertical-align: middle;\n",
       "    }\n",
       "\n",
       "    .dataframe tbody tr th {\n",
       "        vertical-align: top;\n",
       "    }\n",
       "\n",
       "    .dataframe thead th {\n",
       "        text-align: right;\n",
       "    }\n",
       "</style>\n",
       "<table border=\"1\" class=\"dataframe\">\n",
       "  <thead>\n",
       "    <tr style=\"text-align: right;\">\n",
       "      <th></th>\n",
       "      <th>Chills</th>\n",
       "      <th>runny nose</th>\n",
       "      <th>head ache</th>\n",
       "      <th>fever</th>\n",
       "    </tr>\n",
       "  </thead>\n",
       "  <tbody>\n",
       "    <tr>\n",
       "      <th>0</th>\n",
       "      <td>Y</td>\n",
       "      <td>N</td>\n",
       "      <td>Strong</td>\n",
       "      <td>N</td>\n",
       "    </tr>\n",
       "    <tr>\n",
       "      <th>1</th>\n",
       "      <td>N</td>\n",
       "      <td>N</td>\n",
       "      <td>Mild</td>\n",
       "      <td>Y</td>\n",
       "    </tr>\n",
       "  </tbody>\n",
       "</table>\n",
       "</div>"
      ],
      "text/plain": [
       "  Chills runny nose head ache fever\n",
       "0      Y          N    Strong     N\n",
       "1      N          N      Mild     Y"
      ]
     },
     "metadata": {},
     "output_type": "display_data"
    }
   ],
   "source": [
    "with open('NBdata.json', 'r') as f:\n",
    "    data = json.load(f)\n",
    "\n",
    "    train_df = pd.DataFrame(data['train'])\n",
    "    test_df = pd.DataFrame(data['test'])\n",
    "\n",
    "    display(train_df.head())\n",
    "    display(test_df.head())\n"
   ]
  },
  {
   "cell_type": "code",
   "execution_count": 3,
   "id": "312de1fd-d6fc-4dd5-894b-aff229d6ee42",
   "metadata": {},
   "outputs": [],
   "source": [
    "#the features must be independent for naive bayes.\n",
    "# train_df['Flu'].hist()\n",
    "# import seaborn as sns\n",
    "# import numpy as np\n",
    "\n",
    "\n",
    "# plt.figure(figsize=(10, 8))\n",
    "# pd.set_option('future.no_silent_downcasting', True)\n",
    "# temp_df = train_df.replace({'Y': 1, 'N': 0, 'No': 0, 'Mild': 1, 'Strong': 2})\n",
    "# sns.heatmap(temp_df.corr(), \n",
    "#             annot=True, \n",
    "#             fmt='.2f', \n",
    "#             cmap='coolwarm')\n",
    "\n",
    "# plt.show()"
   ]
  },
  {
   "cell_type": "markdown",
   "id": "2d73fa1c-31e7-47f6-9e37-df3aef30d3b8",
   "metadata": {},
   "source": [
    "## calculating prior probabilities of labels of Y (what we have to predict).\n"
   ]
  },
  {
   "cell_type": "code",
   "execution_count": 4,
   "id": "776eccc3-d6c5-4707-8268-b1f04cf16d4d",
   "metadata": {},
   "outputs": [],
   "source": [
    "def calculate_prior(df, Y):\n",
    "    classes = sorted(list(df[Y].unique()))\n",
    "    prior = {}\n",
    "    for i in classes:\n",
    "        prior[i]=(len(df[df[Y]==i])/len(df))\n",
    "    return prior"
   ]
  },
  {
   "cell_type": "code",
   "execution_count": 5,
   "id": "fd5885bf-e32f-4bac-97e6-492b2d3502f3",
   "metadata": {},
   "outputs": [
    {
     "data": {
      "text/plain": [
       "{'N': 0.375, 'Y': 0.625}"
      ]
     },
     "execution_count": 5,
     "metadata": {},
     "output_type": "execute_result"
    }
   ],
   "source": [
    "ans=calculate_prior(train_df,'Flu')\n",
    "ans"
   ]
  },
  {
   "cell_type": "markdown",
   "id": "041a6409-8a00-47bf-9dab-9f24fa050721",
   "metadata": {},
   "source": [
    "# calculating likelihood with each categorie ie P(X|Y) where x i current label"
   ]
  },
  {
   "cell_type": "code",
   "execution_count": 6,
   "id": "6ba87434-ddba-4a99-b012-5db6db9cfa84",
   "metadata": {},
   "outputs": [],
   "source": [
    "def calculate_likelihood_categorical(df, feat_name, feat_val, Y, label):\n",
    "    feat = list(df.columns)[:-1]\n",
    "    df = df[df[Y]==label]\n",
    "    p_x_given_y = len(df[df[feat_name]==feat_val]) / len(df)\n",
    "    return p_x_given_y"
   ]
  },
  {
   "cell_type": "code",
   "execution_count": 7,
   "id": "580325c9-4411-4ba5-8364-0e1fe18ec31f",
   "metadata": {},
   "outputs": [
    {
     "ename": "SyntaxError",
     "evalue": "invalid decimal literal (613196278.py, line 18)",
     "output_type": "error",
     "traceback": [
      "\u001b[1;36m  Cell \u001b[1;32mIn[7], line 18\u001b[1;36m\u001b[0m\n\u001b[1;33m    likelihoods[feature][class_val][feat_val] = {likelihood:.2f}\u001b[0m\n\u001b[1;37m                                                             ^\u001b[0m\n\u001b[1;31mSyntaxError\u001b[0m\u001b[1;31m:\u001b[0m invalid decimal literal\n"
     ]
    }
   ],
   "source": [
    "# here just loop through all the values of diffrent features, and correscponding to them calculate likelihood of each label in Y. using above function\n",
    "\n",
    "features = train_df.columns[:-1] \n",
    "classes = train_df['Flu'].unique()\n",
    "\n",
    "\n",
    "\n",
    "likelihoods = {}\n",
    "\n",
    "for feature in features:\n",
    "    likelihoods[feature] = {}\n",
    "    \n",
    "    feature_values = train_df[feature].unique()\n",
    "    for class_val in classes:\n",
    "        likelihoods[feature][class_val] = {}\n",
    "        for feat_val in feature_values:\n",
    "            likelihood = calculate_likelihood_categorical(train_df, feature, feat_val, 'Flu', class_val)\n",
    "            likelihoods[feature][class_val][feat_val] = likelihood\n",
    "\n",
    "likelihoods"
   ]
  },
  {
   "cell_type": "code",
   "execution_count": null,
   "id": "2a27ac78-6495-49c1-976f-3d82f56c7acc",
   "metadata": {},
   "outputs": [],
   "source": [
    "p_x=1\n",
    "for i in likelihoods:\n",
    "    for j in likelihoods[i]:\n",
    "        for k in likelihoods[i][j]:\n",
    "            p_x*=likelihoods[i][j][k]\n",
    "p_x\n",
    "            "
   ]
  },
  {
   "cell_type": "code",
   "execution_count": null,
   "id": "0e6053f5-066d-4a7e-8e90-1707293d2c05",
   "metadata": {},
   "outputs": [],
   "source": [
    "def predict_naive_bayes(test_df, prior, likelihoods):\n",
    "    predictions = []\n",
    "    #iterate through whole test dataframe and calculate probability for y=0 and y=1 and return max one\n",
    "    for i in range(len(test_df)):\n",
    "        prob_Y = prior['Y']\n",
    "        prob_N = prior['N']\n",
    "        for feature in test_df:\n",
    "            value = test_df[feature].iloc[i] \n",
    "            prob_Y *= likelihoods[feature]['Y'][value]\n",
    "            prob_N *= likelihoods[feature]['N'][value]\n",
    "            \n",
    "        pred = ('Y') if prob_Y > prob_N else ('N')\n",
    "        predictions.append(pred)\n",
    "    return predictions\n",
    "\n",
    "\n",
    "\n"
   ]
  },
  {
   "cell_type": "code",
   "execution_count": null,
   "id": "9a5219ca-fa7b-4000-9d9c-ee170abac094",
   "metadata": {},
   "outputs": [],
   "source": [
    "predictions = predict_naive_bayes(test_df, ans, likelihoods)\n",
    "for pred in predictions:\n",
    "    print (pred)"
   ]
  },
  {
   "cell_type": "code",
   "execution_count": null,
   "id": "ef3a4ef2-6c66-4f53-9a66-b352934beae4",
   "metadata": {},
   "outputs": [],
   "source": []
  }
 ],
 "metadata": {
  "kernelspec": {
   "display_name": "Python 3 (ipykernel)",
   "language": "python",
   "name": "python3"
  },
  "language_info": {
   "codemirror_mode": {
    "name": "ipython",
    "version": 3
   },
   "file_extension": ".py",
   "mimetype": "text/x-python",
   "name": "python",
   "nbconvert_exporter": "python",
   "pygments_lexer": "ipython3",
   "version": "3.11.8"
  }
 },
 "nbformat": 4,
 "nbformat_minor": 5
}
